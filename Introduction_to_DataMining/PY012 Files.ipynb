{
 "cells": [
  {
   "cell_type": "markdown",
   "metadata": {},
   "source": [
    "# PY012 Files"
   ]
  },
  {
   "cell_type": "code",
   "execution_count": 2,
   "metadata": {},
   "outputs": [],
   "source": [
    "# use the open() function to open files or create new ones\n",
    "# if a file does not exist, open will create it\n",
    "# if a file does not exist and you try to read from it\n",
    "# you will get an error"
   ]
  },
  {
   "cell_type": "code",
   "execution_count": 8,
   "metadata": {},
   "outputs": [
    {
     "name": "stdout",
     "output_type": "stream",
     "text": [
      "Washington \n",
      "Adams\n",
      "Jefferson\n",
      "Madison\n"
     ]
    }
   ],
   "source": [
    "f = open('president.txt','r') # r,w,a,r+,w+, ..\n",
    "\n",
    "for p in f:\n",
    "    print(p, end=\"\")"
   ]
  },
  {
   "cell_type": "code",
   "execution_count": 9,
   "metadata": {},
   "outputs": [],
   "source": [
    "f.close()"
   ]
  },
  {
   "cell_type": "code",
   "execution_count": 10,
   "metadata": {},
   "outputs": [
    {
     "name": "stdout",
     "output_type": "stream",
     "text": [
      "Washington \n",
      "Adams\n",
      "Jefferson\n",
      "Madison\n"
     ]
    }
   ],
   "source": [
    "# another way to open a file which automatically closes it when done,\n",
    "# is to use the \"with\" context manager\n",
    "\n",
    "with open('president.txt','r') as f:\n",
    "    for p in f:\n",
    "        print(p,end=\"\")"
   ]
  },
  {
   "cell_type": "code",
   "execution_count": 13,
   "metadata": {},
   "outputs": [
    {
     "ename": "TypeError",
     "evalue": "'bool' object is not callable",
     "output_type": "error",
     "traceback": [
      "\u001b[1;31m---------------------------------------------------------------------------\u001b[0m",
      "\u001b[1;31mTypeError\u001b[0m                                 Traceback (most recent call last)",
      "\u001b[1;32m<ipython-input-13-d40ff7ed1f92>\u001b[0m in \u001b[0;36m<module>\u001b[1;34m\u001b[0m\n\u001b[1;32m----> 1\u001b[1;33m \u001b[0mprint\u001b[0m\u001b[1;33m(\u001b[0m\u001b[0mf\u001b[0m\u001b[1;33m.\u001b[0m\u001b[0mclosed\u001b[0m\u001b[1;33m(\u001b[0m\u001b[1;33m)\u001b[0m\u001b[1;33m)\u001b[0m\u001b[1;33m\u001b[0m\u001b[1;33m\u001b[0m\u001b[0m\n\u001b[0m",
      "\u001b[1;31mTypeError\u001b[0m: 'bool' object is not callable"
     ]
    }
   ],
   "source": [
    "print(f.closed())"
   ]
  },
  {
   "cell_type": "code",
   "execution_count": 14,
   "metadata": {},
   "outputs": [
    {
     "name": "stdout",
     "output_type": "stream",
     "text": [
      "r\n"
     ]
    }
   ],
   "source": [
    "print(f.mode)"
   ]
  },
  {
   "cell_type": "code",
   "execution_count": 16,
   "metadata": {},
   "outputs": [
    {
     "name": "stdout",
     "output_type": "stream",
     "text": [
      "Washington \n",
      "Adams\n",
      "Jefferson\n",
      "Madison\n",
      "\n"
     ]
    }
   ],
   "source": [
    "#Pring all the contents all at once\n",
    "\n",
    "with open('president.txt','r') as f:\n",
    "    f_contents = f.read()\n",
    "    print(f_contents)"
   ]
  },
  {
   "cell_type": "code",
   "execution_count": 18,
   "metadata": {},
   "outputs": [
    {
     "name": "stdout",
     "output_type": "stream",
     "text": [
      "['Washington \\n', 'Adams\\n', 'Jefferson\\n', 'Madison\\n']\n"
     ]
    }
   ],
   "source": [
    "# readlines() returns a list of values\n",
    "\n",
    "with open('president.txt', 'r') as f:\n",
    "    f_contents = f.readlines() # readlines() is only for text files\n",
    "    print(f_contents)\n",
    "    "
   ]
  },
  {
   "cell_type": "code",
   "execution_count": 20,
   "metadata": {},
   "outputs": [
    {
     "name": "stdout",
     "output_type": "stream",
     "text": [
      "['Washington', 'Adams', 'Jefferson', 'Madison']\n"
     ]
    }
   ],
   "source": [
    "with open('president.txt', 'r') as f:\n",
    "    f_contents = f.readlines() # readlines() is only for text files\n",
    "    p_contents = []\n",
    "    for p in f_contents:\n",
    "        p = p.strip() # strip() removes line breaks, tabs, and spaces from before and after\n",
    "        p_contents.append(p)\n",
    "    print(p_contents)\n",
    "    "
   ]
  },
  {
   "cell_type": "code",
   "execution_count": 23,
   "metadata": {},
   "outputs": [
    {
     "name": "stdout",
     "output_type": "stream",
     "text": [
      "Washington \n",
      "\n",
      "Adams\n",
      "\n"
     ]
    }
   ],
   "source": [
    "# readline() reads the first line and if called again\n",
    "# subsequent lines one at a time\n",
    "\n",
    "with open('president.txt','r') as f:\n",
    "    f_contents = f.readline() # read the first line\n",
    "    print(f_contents)\n",
    "    \n",
    "    f_contents = f.readline() # read the next line\n",
    "    print(f_contents)"
   ]
  },
  {
   "cell_type": "code",
   "execution_count": null,
   "metadata": {},
   "outputs": [],
   "source": []
  }
 ],
 "metadata": {
  "kernelspec": {
   "display_name": "Python 3",
   "language": "python",
   "name": "python3"
  },
  "language_info": {
   "codemirror_mode": {
    "name": "ipython",
    "version": 3
   },
   "file_extension": ".py",
   "mimetype": "text/x-python",
   "name": "python",
   "nbconvert_exporter": "python",
   "pygments_lexer": "ipython3",
   "version": "3.7.3"
  }
 },
 "nbformat": 4,
 "nbformat_minor": 2
}
