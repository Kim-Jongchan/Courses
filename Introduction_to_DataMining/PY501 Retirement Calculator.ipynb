{
 "cells": [
  {
   "cell_type": "markdown",
   "metadata": {},
   "source": [
    "# PY501 Retirement Calculator"
   ]
  },
  {
   "cell_type": "code",
   "execution_count": 1,
   "metadata": {},
   "outputs": [],
   "source": [
    "# retirement claculator\n",
    "import math"
   ]
  },
  {
   "cell_type": "code",
   "execution_count": 7,
   "metadata": {},
   "outputs": [
    {
     "name": "stdout",
     "output_type": "stream",
     "text": [
      "Enter your principal: 50000\n",
      "Enter the interest rate like 7.5: 6.75\n",
      "Enter number of years before retirement: 50\n",
      "Enter monthly contribution: 500\n",
      "Your retirement with no contirbution is $ 1420640.07\n",
      "Your retirement with contirbution is $ 10166595.82\n"
     ]
    }
   ],
   "source": [
    "principal = input('Enter your principal: ')\n",
    "interest = input('Enter the interest rate like 7.5: ')\n",
    "years = input('Enter number of years before retirement: ')\n",
    "contribution = input('Enter monthly contribution: ')\n",
    "\n",
    "# casting  or converting\n",
    "\n",
    "principal= float(principal)\n",
    "interest = float(interest) / 100\n",
    "years = float(years)\n",
    "contribution= float(contribution)\n",
    "\n",
    "retirement_no_contribution = round(principal*math.pow((1+interest/4),4*years),2)\n",
    "retirement_with_contribution = round(contribution * ((math.pow((1+interest/4),4*years)-1) / (interest/years)) * (1+interest/years), 2)\n",
    "\n",
    "\n",
    "print(\"Your retirement with no contirbution is $ {}\".format(retirement_no_contribution))\n",
    "print(\"Your retirement with contirbution is $ {}\".format(retirement_with_contribution))"
   ]
  },
  {
   "cell_type": "code",
   "execution_count": null,
   "metadata": {},
   "outputs": [],
   "source": []
  }
 ],
 "metadata": {
  "kernelspec": {
   "display_name": "Python 3",
   "language": "python",
   "name": "python3"
  },
  "language_info": {
   "codemirror_mode": {
    "name": "ipython",
    "version": 3
   },
   "file_extension": ".py",
   "mimetype": "text/x-python",
   "name": "python",
   "nbconvert_exporter": "python",
   "pygments_lexer": "ipython3",
   "version": "3.7.3"
  }
 },
 "nbformat": 4,
 "nbformat_minor": 2
}
