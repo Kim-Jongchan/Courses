{
 "cells": [
  {
   "cell_type": "markdown",
   "metadata": {},
   "source": [
    "# PY502 Splitter Joiner"
   ]
  },
  {
   "cell_type": "code",
   "execution_count": 1,
   "metadata": {},
   "outputs": [],
   "source": [
    "# splitter joiner program"
   ]
  },
  {
   "cell_type": "code",
   "execution_count": 2,
   "metadata": {},
   "outputs": [],
   "source": [
    "def splitter():\n",
    "    buffer_size = 100000 # bytes\n",
    "    infile = open('Wildlife.wmv','rb') # read binary\n",
    "    file_prefix = 'wildlife'\n",
    "    buffer = infile.read(buffer_size)\n",
    "    i = 0\n",
    "    while len(buffer):\n",
    "        file_prefix += str(i) # file_prefix = file_prefix + str(i)\n",
    "        outfile = open(file_prefix,'wb')\n",
    "        outfile.write(buffer)\n",
    "        outfile.close()\n",
    "        print('.',end='') # pregressbar\n",
    "        buffer = infile.read(buffer_size)\n",
    "        i +=1\n",
    "        file_prefix = 'wildlife'\n",
    "    infile.close()"
   ]
  },
  {
   "cell_type": "code",
   "execution_count": 3,
   "metadata": {},
   "outputs": [
    {
     "name": "stdout",
     "output_type": "stream",
     "text": [
      "......................................................................................................................................................................................................................................................................."
     ]
    }
   ],
   "source": [
    "splitter()"
   ]
  },
  {
   "cell_type": "code",
   "execution_count": 6,
   "metadata": {},
   "outputs": [],
   "source": [
    "def joiner():\n",
    "    outfile = open('newWildlife.wmv','ab')\n",
    "    file_prefix = 'wildlife'\n",
    "    infile = open(file_prefix + str(0), 'rb')\n",
    "    buffer = infile.read()\n",
    "    i = 0 \n",
    "    while len(buffer):\n",
    "        outfile.write(buffer)\n",
    "        print('.',end='')\n",
    "        i += 1\n",
    "        if i == 262:\n",
    "            break\n",
    "        file_prefix = 'wildlife'\n",
    "        file_prefix += str(i)\n",
    "        infile = open(file_prefix,'rb')\n",
    "        buffer = infile.read()\n",
    "    outfile.close()\n",
    "    print()\n",
    "    print('Files rejoined')"
   ]
  },
  {
   "cell_type": "code",
   "execution_count": 7,
   "metadata": {},
   "outputs": [
    {
     "name": "stdout",
     "output_type": "stream",
     "text": [
      "......................................................................................................................................................................................................................................................................\n",
      "Files rejoined\n"
     ]
    }
   ],
   "source": [
    "joiner()"
   ]
  },
  {
   "cell_type": "code",
   "execution_count": 27,
   "metadata": {},
   "outputs": [],
   "source": [
    "import os\n",
    "for i in os.listdir():\n",
    "    if i.startswith('wildlife'):\n",
    "        os.remove(os.getcwd()+'\\\\'+i)       "
   ]
  }
 ],
 "metadata": {
  "kernelspec": {
   "display_name": "Python 3",
   "language": "python",
   "name": "python3"
  },
  "language_info": {
   "codemirror_mode": {
    "name": "ipython",
    "version": 3
   },
   "file_extension": ".py",
   "mimetype": "text/x-python",
   "name": "python",
   "nbconvert_exporter": "python",
   "pygments_lexer": "ipython3",
   "version": "3.7.3"
  }
 },
 "nbformat": 4,
 "nbformat_minor": 2
}
