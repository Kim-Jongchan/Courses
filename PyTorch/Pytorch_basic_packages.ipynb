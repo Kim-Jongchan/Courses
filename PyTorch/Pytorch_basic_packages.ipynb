{
 "cells": [
  {
   "cell_type": "markdown",
   "metadata": {},
   "source": [
    "### PyTorch Packages\n",
    "\n",
    "- torch : The top-level PyTorch package and tensor library  \n",
    "- torch.nn : A subpackage that contains modules and extensible classes for building neural networks  \n",
    "- torch.autograd : A subpackage that support all the differentiable Tensor operations in PyTorch  \n",
    "- torch.nn.functional : A functional interface that contains typical operations used for building neural networks like loss functions, activation functions, and convolution operations   \n",
    "- torch.optim : A subpackage that contains standard optimization operations like SGC and Adam  \n",
    "- torch.utils : A subpackage that contains utility classes like data sets and data loaders that make data preprocessing easier  \n",
    "- torchvision : A package that provides access to popular datasets, model architechtures, and image transformation for computer vision  \n"
   ]
  },
  {
   "cell_type": "markdown",
   "metadata": {},
   "source": [
    "### torch\n",
    "top-level method\n",
    "    - torch.tensor : create tensor with existing data\n",
    "    - torch.eye: create diagonal matrix / tensor\n",
    "    - torch.zeros : create tensor filled with zeros\n",
    "    - torch.ones : create tensor filled with ones\n",
    "    - torch.from_numpy : create tensor from array\n",
    "    - torch.randn : creat random tensor"
   ]
  },
  {
   "cell_type": "code",
   "execution_count": 8,
   "metadata": {},
   "outputs": [],
   "source": [
    "import torch"
   ]
  },
  {
   "cell_type": "code",
   "execution_count": 21,
   "metadata": {},
   "outputs": [
    {
     "data": {
      "text/plain": [
       "tensor([1., 2., 3.])"
      ]
     },
     "execution_count": 21,
     "metadata": {},
     "output_type": "execute_result"
    }
   ],
   "source": [
    "torch.tensor([1,2,3], requires_grad=False, dtype = torch.float32)"
   ]
  },
  {
   "cell_type": "code",
   "execution_count": 17,
   "metadata": {},
   "outputs": [
    {
     "data": {
      "text/plain": [
       "tensor([[1, 2, 3],\n",
       "        [4, 5, 6]], dtype=torch.int32)"
      ]
     },
     "execution_count": 17,
     "metadata": {},
     "output_type": "execute_result"
    }
   ],
   "source": [
    "import numpy as np\n",
    "# torch.tensor uses np.array as an input\n",
    "t = torch.tensor(np.array([[1,2,3],[4,5,6]]))\n",
    "t"
   ]
  },
  {
   "cell_type": "code",
   "execution_count": 20,
   "metadata": {},
   "outputs": [
    {
     "data": {
      "text/plain": [
       "tensor([[1., 0., 0.],\n",
       "        [0., 1., 0.],\n",
       "        [0., 0., 1.]], dtype=torch.float64)"
      ]
     },
     "execution_count": 20,
     "metadata": {},
     "output_type": "execute_result"
    }
   ],
   "source": [
    "torch.eye(3, dtype=torch.double)"
   ]
  },
  {
   "cell_type": "code",
   "execution_count": 22,
   "metadata": {},
   "outputs": [
    {
     "data": {
      "text/plain": [
       "tensor([0., 0., 0.])"
      ]
     },
     "execution_count": 22,
     "metadata": {},
     "output_type": "execute_result"
    }
   ],
   "source": [
    "torch.zeros(3)"
   ]
  },
  {
   "cell_type": "code",
   "execution_count": 27,
   "metadata": {},
   "outputs": [
    {
     "data": {
      "text/plain": [
       "tensor([1., 1., 1.])"
      ]
     },
     "execution_count": 27,
     "metadata": {},
     "output_type": "execute_result"
    }
   ],
   "source": [
    "torch.ones(3)"
   ]
  },
  {
   "cell_type": "code",
   "execution_count": 38,
   "metadata": {},
   "outputs": [
    {
     "name": "stdout",
     "output_type": "stream",
     "text": [
      "tensor([0, 1, 2, 3, 4, 5], dtype=torch.int32)\n"
     ]
    }
   ],
   "source": [
    "a = np.arange(6)\n",
    "t = torch.from_numpy(a)\n",
    "print(t)"
   ]
  },
  {
   "cell_type": "code",
   "execution_count": 43,
   "metadata": {},
   "outputs": [
    {
     "data": {
      "text/plain": [
       "tensor([[-1.8366,  0.6943, -0.0380],\n",
       "        [ 0.6823,  0.5980,  0.8796],\n",
       "        [-0.6557,  0.2945,  1.6147]])"
      ]
     },
     "execution_count": 43,
     "metadata": {},
     "output_type": "execute_result"
    }
   ],
   "source": [
    "torch.randn((3,3))"
   ]
  },
  {
   "cell_type": "markdown",
   "metadata": {},
   "source": [
    "torch.tensor's method/argument\n",
    "    - dtype\n",
    "    - device\n",
    "    - requires_grad\n",
    "    - size()\n",
    "    - shape\n",
    "    - ndim"
   ]
  },
  {
   "cell_type": "code",
   "execution_count": 26,
   "metadata": {},
   "outputs": [
    {
     "name": "stdout",
     "output_type": "stream",
     "text": [
      "torch.float32\n"
     ]
    }
   ],
   "source": [
    "print(t.dtype)"
   ]
  },
  {
   "cell_type": "code",
   "execution_count": 28,
   "metadata": {},
   "outputs": [
    {
     "name": "stdout",
     "output_type": "stream",
     "text": [
      "cpu\n"
     ]
    }
   ],
   "source": [
    "print(t.device)"
   ]
  },
  {
   "cell_type": "code",
   "execution_count": 29,
   "metadata": {},
   "outputs": [
    {
     "name": "stdout",
     "output_type": "stream",
     "text": [
      "False\n"
     ]
    }
   ],
   "source": [
    "print(t.requires_grad)"
   ]
  },
  {
   "cell_type": "code",
   "execution_count": 30,
   "metadata": {},
   "outputs": [
    {
     "data": {
      "text/plain": [
       "torch.Size([3])"
      ]
     },
     "execution_count": 30,
     "metadata": {},
     "output_type": "execute_result"
    }
   ],
   "source": [
    "t.size()"
   ]
  },
  {
   "cell_type": "code",
   "execution_count": 31,
   "metadata": {},
   "outputs": [
    {
     "data": {
      "text/plain": [
       "torch.Size([3])"
      ]
     },
     "execution_count": 31,
     "metadata": {},
     "output_type": "execute_result"
    }
   ],
   "source": [
    "t.shape"
   ]
  },
  {
   "cell_type": "code",
   "execution_count": 32,
   "metadata": {},
   "outputs": [
    {
     "data": {
      "text/plain": [
       "1"
      ]
     },
     "execution_count": 32,
     "metadata": {},
     "output_type": "execute_result"
    }
   ],
   "source": [
    "t.ndim"
   ]
  },
  {
   "cell_type": "markdown",
   "metadata": {},
   "source": [
    "### Indexing : like numpy"
   ]
  },
  {
   "cell_type": "code",
   "execution_count": 34,
   "metadata": {},
   "outputs": [
    {
     "data": {
      "text/plain": [
       "tensor([[0., 0., 0.],\n",
       "        [0., 0., 0.],\n",
       "        [0., 0., 0.]])"
      ]
     },
     "execution_count": 34,
     "metadata": {},
     "output_type": "execute_result"
    }
   ],
   "source": [
    "# indexing like numpy array\n",
    "t = torch.zeros((3,3))\n",
    "t[:,:]"
   ]
  },
  {
   "cell_type": "markdown",
   "metadata": {},
   "source": [
    "### torch.nn : basic building block for graphs\n",
    "\n",
    "(https://pytorch.org/docs/stable/nn.html)\n",
    "\n",
    " - Containers\n",
    "     - nn.Module : Base class for all neural network modules\n",
    "     - nn.Sequential : A sequential container\n",
    " - Convolution Layers\n",
    "     - nn.Conv1d\n",
    "     - nn.Conv2d\n",
    "     - nn.Conv3d\n",
    " - Pooling layers\n",
    "     - nn.MaxPool1d\n",
    "     - nn.MaxPool2d\n",
    "     - nn.MaxPool3d\n",
    " - Non-linear activations\n",
    "     - nn.ReLU\n",
    "     - nn.Tanh\n",
    "     - nn.Softmax\n",
    " - Normalization Layers\n",
    "     - nn.BatchNorm1d\n",
    "     - nn.BatchNorm2d\n",
    " - Recurrent Layers\n",
    "     - nn.RNN\n",
    "     - nn.LSTM\n",
    "     - nn.GRU\n",
    " - Linear Layers\n",
    "     - nn.Linear\n",
    " - Dropout Layers\n",
    "     - nn.Dropout\n",
    " - Sparse Layers\n",
    "     - nn.Embedding\n",
    " - Distance Functions\n",
    "     - nn.CosineSimilarity\n",
    " - Loss Functions\n",
    "     - nn.L1Loss\n",
    "     - nn.MSELoss\n",
    "     \n",
    " - nn.Linear\n",
    " - nn.Parameter\n",
    " - nn.Module.\n",
    "     - nn.Module.parameters()\n",
    "    "
   ]
  },
  {
   "cell_type": "markdown",
   "metadata": {},
   "source": [
    "### torch.autograd : Automatic Differntiation package\n",
    "\n",
    "(https://pytorch.org/docs/stable/autograd.html)"
   ]
  },
  {
   "cell_type": "code",
   "execution_count": 39,
   "metadata": {},
   "outputs": [],
   "source": [
    "import torch\n",
    "from torch import autograd\n",
    "\n",
    "x1 = torch.tensor(4,requires_grad= True, dtype = torch.float32)\n",
    "x2 = torch.tensor(2,requires_grad= True, dtype = torch.float32)\n",
    "x3 = torch.tensor(7,requires_grad= True, dtype = torch.float32)\n",
    "x4 = torch.tensor(1,requires_grad= True, dtype = torch.float32)"
   ]
  },
  {
   "cell_type": "code",
   "execution_count": 40,
   "metadata": {},
   "outputs": [
    {
     "data": {
      "text/plain": [
       "(tensor(16., grad_fn=<MulBackward0>),\n",
       " tensor(21., grad_fn=<MulBackward0>),\n",
       " tensor(185., grad_fn=<MulBackward0>))"
      ]
     },
     "execution_count": 40,
     "metadata": {},
     "output_type": "execute_result"
    }
   ],
   "source": [
    "h1 = 2 * x1 * x2\n",
    "h2 = 3 * x3 * x4\n",
    "f = 5 * (h1 + h2)\n",
    "h1, h2, f"
   ]
  },
  {
   "cell_type": "code",
   "execution_count": 41,
   "metadata": {},
   "outputs": [
    {
     "data": {
      "text/plain": [
       "(tensor(20.), tensor(40.), tensor(15.), tensor(105.))"
      ]
     },
     "execution_count": 41,
     "metadata": {},
     "output_type": "execute_result"
    }
   ],
   "source": [
    "df_dx = autograd.grad(outputs =f, inputs = [x1,x2,x3,x4])\n",
    "df_dx"
   ]
  },
  {
   "cell_type": "markdown",
   "metadata": {},
   "source": [
    "### torch.optim : a pakage implementing various optimization algorithms"
   ]
  },
  {
   "cell_type": "markdown",
   "metadata": {},
   "source": [
    "[example1]   \n",
    "from torch import optim  \n",
    "opt = optim.SGD(model.parameters(), lr=0.01, momentum=0.9)  \n",
    "opt = optim.Adam([var1, var2], lr=0.0001)  \n",
    "\n",
    "opt.step()  \n",
    "opt.zero_grad()"
   ]
  },
  {
   "cell_type": "markdown",
   "metadata": {},
   "source": [
    "### torch.utils\n",
    "    - torch.utils.data.DataLoader : responsible for managing batches, gives us each minibath automatically\n",
    "    "
   ]
  },
  {
   "cell_type": "markdown",
   "metadata": {},
   "source": [
    "[example1]\n",
    "\n",
    " - Train/Test/Validation dataset  \n",
    " \n",
    "from torch.utils.data import DataLoader\n",
    "\n",
    "train_ds = TensorDataset(x_train, y_train)  \n",
    "train_dl = DataLoader(train_ds, batch_size=bs,shuffle=True)  \n",
    "\n",
    "for xb,yb in train_dl:  \n",
    "    pred = model(xb)  "
   ]
  },
  {
   "cell_type": "code",
   "execution_count": null,
   "metadata": {},
   "outputs": [],
   "source": []
  }
 ],
 "metadata": {
  "kernelspec": {
   "display_name": "Python 3",
   "language": "python",
   "name": "python3"
  },
  "language_info": {
   "codemirror_mode": {
    "name": "ipython",
    "version": 3
   },
   "file_extension": ".py",
   "mimetype": "text/x-python",
   "name": "python",
   "nbconvert_exporter": "python",
   "pygments_lexer": "ipython3",
   "version": "3.8.3"
  }
 },
 "nbformat": 4,
 "nbformat_minor": 2
}
