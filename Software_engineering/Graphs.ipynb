{
 "cells": [
  {
   "cell_type": "markdown",
   "metadata": {},
   "source": [
    "Adjacency-List / Adjacency-Matrix Representation of a Graph"
   ]
  },
  {
   "cell_type": "code",
   "execution_count": 21,
   "metadata": {},
   "outputs": [
    {
     "name": "stdout",
     "output_type": "stream",
     "text": [
      "{1: [2, 4], 2: [5], 3: [6, 5], 4: [2], 5: [4], 6: [6]}\n"
     ]
    }
   ],
   "source": [
    "# Adjacency-List implementation using Dictionary\n",
    "\n",
    "G = dict()\n",
    "G[1] = [2,4]\n",
    "G[2] = [5]\n",
    "G[3] = [6,5]\n",
    "G[4] = [2]\n",
    "G[5] = [4]\n",
    "G[6] = [6]\n",
    "print(G)"
   ]
  },
  {
   "cell_type": "code",
   "execution_count": 22,
   "metadata": {},
   "outputs": [
    {
     "name": "stdout",
     "output_type": "stream",
     "text": [
      "[[0, 0, 0, 0, 0, 0], [0, 0, 0, 0, 0, 0], [0, 0, 0, 0, 0, 0], [0, 0, 0, 0, 0, 0], [0, 0, 0, 0, 0, 0], [0, 0, 0, 0, 0, 0]]\n"
     ]
    }
   ],
   "source": [
    "# Adjacency-Matrix implementation\n",
    "\n",
    "cols = 6\n",
    "rows = 6\n",
    "\n",
    "Adj = [[0 for i in range(cols)] for j in range(rows)]\n",
    "print(Adj)"
   ]
  },
  {
   "cell_type": "code",
   "execution_count": 23,
   "metadata": {},
   "outputs": [
    {
     "name": "stdout",
     "output_type": "stream",
     "text": [
      "[[0, 1, 0, 1, 0, 0], [0, 0, 0, 0, 1, 0], [0, 0, 0, 0, 1, 1], [0, 1, 0, 0, 0, 0], [0, 0, 0, 1, 0, 0], [0, 0, 0, 0, 0, 1]]\n"
     ]
    }
   ],
   "source": [
    "for v in range(1,7):\n",
    "    for u in G[v]:\n",
    "        Adj[v-1][u-1] = 1\n",
    "print(Adj)"
   ]
  },
  {
   "cell_type": "markdown",
   "metadata": {},
   "source": [
    "# General Tree Implementation"
   ]
  },
  {
   "cell_type": "code",
   "execution_count": 24,
   "metadata": {},
   "outputs": [],
   "source": [
    "class TreeNode:\n",
    "    def __init__(self,data):\n",
    "        self.data = data\n",
    "        self.firstChild = None\n",
    "        self.nextSibling = None"
   ]
  },
  {
   "cell_type": "code",
   "execution_count": 25,
   "metadata": {},
   "outputs": [],
   "source": [
    "class BTNode:\n",
    "    def __init__(self,d,l,r):\n",
    "        self.data = d\n",
    "        self.left = l\n",
    "        self.right = r\n",
    "    def pre_order(self):\n",
    "        print(\"(\" + str(self.data), end =\"\")\n",
    "        if self.left != None:\n",
    "            self.left.pre_order()\n",
    "        if self.right != None:\n",
    "            self.right.pre_order()\n",
    "        print(\")\", end = \"\")\n",
    "    def in_order(self):\n",
    "        print(\"(\", end = \"\")\n",
    "        if self.left != None:\n",
    "            self.left.in_order()\n",
    "        print(str(self.data),end=\"\")\n",
    "        if self.right != None:\n",
    "            self.right.in_order()\n",
    "        print(\")\",end=\"\")\n",
    "    def post_order(self):\n",
    "        print(\"(\", end=\"\")\n",
    "        if self.left != None:\n",
    "            self.left.post_order()\n",
    "        if self.right != None:\n",
    "            self.right.post_order()\n",
    "        print(str(self.data) + \")\", end =\"\")"
   ]
  },
  {
   "cell_type": "code",
   "execution_count": 26,
   "metadata": {},
   "outputs": [],
   "source": [
    "t = BTNode(\"+\", BTNode(\"-\" ,BTNode(23,None,None), BTNode(14,None,None)),BTNode(\"+\",BTNode(12,None,None),BTNode(5,None,None)))"
   ]
  },
  {
   "cell_type": "code",
   "execution_count": 27,
   "metadata": {},
   "outputs": [
    {
     "name": "stdout",
     "output_type": "stream",
     "text": [
      "(+(-(23)(14))(+(12)(5)))"
     ]
    }
   ],
   "source": [
    "t.pre_order()"
   ]
  },
  {
   "cell_type": "code",
   "execution_count": 28,
   "metadata": {},
   "outputs": [
    {
     "name": "stdout",
     "output_type": "stream",
     "text": [
      "(((23)-(14))+((12)+(5)))"
     ]
    }
   ],
   "source": [
    "t.in_order()"
   ]
  },
  {
   "cell_type": "code",
   "execution_count": 29,
   "metadata": {},
   "outputs": [
    {
     "name": "stdout",
     "output_type": "stream",
     "text": [
      "(((23)(14)-)((12)(5)+)+)"
     ]
    }
   ],
   "source": [
    "t.post_order()"
   ]
  },
  {
   "cell_type": "markdown",
   "metadata": {},
   "source": [
    "## Searching"
   ]
  },
  {
   "cell_type": "markdown",
   "metadata": {},
   "source": [
    "### Breadth-first search"
   ]
  },
  {
   "cell_type": "code",
   "execution_count": 30,
   "metadata": {},
   "outputs": [
    {
     "name": "stdout",
     "output_type": "stream",
     "text": [
      "deque([])\n"
     ]
    }
   ],
   "source": [
    "# deque Objects\n",
    "from collections import deque\n",
    "q = deque()\n",
    "print(q)"
   ]
  },
  {
   "cell_type": "code",
   "execution_count": 31,
   "metadata": {},
   "outputs": [
    {
     "name": "stdout",
     "output_type": "stream",
     "text": [
      "deque([2, 5, 3])\n"
     ]
    }
   ],
   "source": [
    "q.append(2)\n",
    "q.append(5)\n",
    "q.append(3)\n",
    "print(q)"
   ]
  },
  {
   "cell_type": "code",
   "execution_count": 32,
   "metadata": {},
   "outputs": [
    {
     "data": {
      "text/plain": [
       "2"
      ]
     },
     "execution_count": 32,
     "metadata": {},
     "output_type": "execute_result"
    }
   ],
   "source": [
    "q.popleft()"
   ]
  },
  {
   "cell_type": "code",
   "execution_count": 33,
   "metadata": {},
   "outputs": [
    {
     "name": "stdout",
     "output_type": "stream",
     "text": [
      "deque([5, 3])\n"
     ]
    }
   ],
   "source": [
    "print(q)"
   ]
  },
  {
   "cell_type": "code",
   "execution_count": 34,
   "metadata": {},
   "outputs": [
    {
     "data": {
      "text/plain": [
       "2"
      ]
     },
     "execution_count": 34,
     "metadata": {},
     "output_type": "execute_result"
    }
   ],
   "source": [
    "len(q)"
   ]
  },
  {
   "cell_type": "code",
   "execution_count": 35,
   "metadata": {},
   "outputs": [],
   "source": [
    "class GNode:\n",
    "    def __init__(self,id, c= \"W\", d = -1, p = None):\n",
    "        self.id = id\n",
    "        self.color = c\n",
    "        self.distance = d\n",
    "        self.parent = p\n",
    "    def __str__(self):\n",
    "        if (self.parent != None):\n",
    "            return \"(\" + self.id + \", \" + self.color + \", \" + str(self.distance) + \", \" + self.parent.id + \")\"\n",
    "        else:\n",
    "            return \"(\" + self.id + \", \" + self.color + \", \" + str(self.distance) + \")\"\n",
    "         "
   ]
  },
  {
   "cell_type": "code",
   "execution_count": 36,
   "metadata": {},
   "outputs": [],
   "source": [
    "r = GNode(\"r\")\n",
    "s = GNode(\"s\")\n",
    "t = GNode(\"t\")\n",
    "u = GNode(\"u\")\n",
    "v = GNode(\"v\")\n",
    "w = GNode(\"w\")\n",
    "x = GNode(\"x\")\n",
    "y = GNode(\"y\")"
   ]
  },
  {
   "cell_type": "code",
   "execution_count": 37,
   "metadata": {},
   "outputs": [],
   "source": [
    "G = dict()\n",
    "G[r] = [s,v]\n",
    "G[s] = [w,r]\n",
    "G[t] = [w,x,u]\n",
    "G[u] = [t,x,y]\n",
    "G[v] = [r]\n",
    "G[w] = [s,t,x]\n",
    "G[x] = [w,t,u,y]\n",
    "G[y] = [x,u]"
   ]
  },
  {
   "cell_type": "code",
   "execution_count": 38,
   "metadata": {},
   "outputs": [],
   "source": [
    "def printGraph(g):\n",
    "    for key, val in g.items():\n",
    "        print(str(key) + \": \", end = \"\")\n",
    "        for u in val:\n",
    "            print(str(u), end =\"\")\n",
    "        print(\"\")"
   ]
  },
  {
   "cell_type": "code",
   "execution_count": 39,
   "metadata": {},
   "outputs": [
    {
     "name": "stdout",
     "output_type": "stream",
     "text": [
      "(r, W, -1): (s, W, -1)(v, W, -1)\n",
      "(s, W, -1): (w, W, -1)(r, W, -1)\n",
      "(t, W, -1): (w, W, -1)(x, W, -1)(u, W, -1)\n",
      "(u, W, -1): (t, W, -1)(x, W, -1)(y, W, -1)\n",
      "(v, W, -1): (r, W, -1)\n",
      "(w, W, -1): (s, W, -1)(t, W, -1)(x, W, -1)\n",
      "(x, W, -1): (w, W, -1)(t, W, -1)(u, W, -1)(y, W, -1)\n",
      "(y, W, -1): (x, W, -1)(u, W, -1)\n"
     ]
    }
   ],
   "source": [
    "printGraph(G)"
   ]
  },
  {
   "cell_type": "code",
   "execution_count": 42,
   "metadata": {},
   "outputs": [],
   "source": [
    "import collections\n",
    "def bfs(G,s):\n",
    "    def printG(d):\n",
    "        for key, val in d.items():\n",
    "            print(str(key) + \": \", end = \"\")\n",
    "            for u in val:\n",
    "                print(str(u), end =\"\")\n",
    "            print(\"\")\n",
    "    def printQ(q):\n",
    "        print(\"Q = \", end = \"\")\n",
    "        for u in q:\n",
    "            print(u, end =\"\")\n",
    "        print(\"\")\n",
    "    for key in G:\n",
    "        key.color = \"W\"\n",
    "        key.distanace = -1\n",
    "        key.parent = None\n",
    "    \n",
    "    s.color = \"G\"\n",
    "    s.distance = 0\n",
    "    Q = collections.deque()\n",
    "    Q.append(s)\n",
    "    printG(G)\n",
    "    printQ(Q)\n",
    "    while (len(Q) > 0):\n",
    "        u = Q.popleft()\n",
    "        for v in G[u]:\n",
    "            if v.color == \"W\":\n",
    "                v.color = \"G\"\n",
    "                v.distance = u.distance + 1\n",
    "                v.parent = u\n",
    "                Q.append(v)\n",
    "        u.color = \"B\"\n",
    "        printG(G)\n",
    "        printQ(Q)"
   ]
  },
  {
   "cell_type": "code",
   "execution_count": 43,
   "metadata": {},
   "outputs": [
    {
     "name": "stdout",
     "output_type": "stream",
     "text": [
      "(r, W, -1): (s, G, 0)(v, W, -1)\n",
      "(s, G, 0): (w, W, -1)(r, W, -1)\n",
      "(t, W, -1): (w, W, -1)(x, W, -1)(u, W, -1)\n",
      "(u, W, -1): (t, W, -1)(x, W, -1)(y, W, -1)\n",
      "(v, W, -1): (r, W, -1)\n",
      "(w, W, -1): (s, G, 0)(t, W, -1)(x, W, -1)\n",
      "(x, W, -1): (w, W, -1)(t, W, -1)(u, W, -1)(y, W, -1)\n",
      "(y, W, -1): (x, W, -1)(u, W, -1)\n",
      "Q = (s, G, 0)\n",
      "(r, G, 1, s): (s, B, 0)(v, W, -1)\n",
      "(s, B, 0): (w, G, 1, s)(r, G, 1, s)\n",
      "(t, W, -1): (w, G, 1, s)(x, W, -1)(u, W, -1)\n",
      "(u, W, -1): (t, W, -1)(x, W, -1)(y, W, -1)\n",
      "(v, W, -1): (r, G, 1, s)\n",
      "(w, G, 1, s): (s, B, 0)(t, W, -1)(x, W, -1)\n",
      "(x, W, -1): (w, G, 1, s)(t, W, -1)(u, W, -1)(y, W, -1)\n",
      "(y, W, -1): (x, W, -1)(u, W, -1)\n",
      "Q = (w, G, 1, s)(r, G, 1, s)\n",
      "(r, G, 1, s): (s, B, 0)(v, W, -1)\n",
      "(s, B, 0): (w, B, 1, s)(r, G, 1, s)\n",
      "(t, G, 2, w): (w, B, 1, s)(x, G, 2, w)(u, W, -1)\n",
      "(u, W, -1): (t, G, 2, w)(x, G, 2, w)(y, W, -1)\n",
      "(v, W, -1): (r, G, 1, s)\n",
      "(w, B, 1, s): (s, B, 0)(t, G, 2, w)(x, G, 2, w)\n",
      "(x, G, 2, w): (w, B, 1, s)(t, G, 2, w)(u, W, -1)(y, W, -1)\n",
      "(y, W, -1): (x, G, 2, w)(u, W, -1)\n",
      "Q = (r, G, 1, s)(t, G, 2, w)(x, G, 2, w)\n",
      "(r, B, 1, s): (s, B, 0)(v, G, 2, r)\n",
      "(s, B, 0): (w, B, 1, s)(r, B, 1, s)\n",
      "(t, G, 2, w): (w, B, 1, s)(x, G, 2, w)(u, W, -1)\n",
      "(u, W, -1): (t, G, 2, w)(x, G, 2, w)(y, W, -1)\n",
      "(v, G, 2, r): (r, B, 1, s)\n",
      "(w, B, 1, s): (s, B, 0)(t, G, 2, w)(x, G, 2, w)\n",
      "(x, G, 2, w): (w, B, 1, s)(t, G, 2, w)(u, W, -1)(y, W, -1)\n",
      "(y, W, -1): (x, G, 2, w)(u, W, -1)\n",
      "Q = (t, G, 2, w)(x, G, 2, w)(v, G, 2, r)\n",
      "(r, B, 1, s): (s, B, 0)(v, G, 2, r)\n",
      "(s, B, 0): (w, B, 1, s)(r, B, 1, s)\n",
      "(t, B, 2, w): (w, B, 1, s)(x, G, 2, w)(u, G, 3, t)\n",
      "(u, G, 3, t): (t, B, 2, w)(x, G, 2, w)(y, W, -1)\n",
      "(v, G, 2, r): (r, B, 1, s)\n",
      "(w, B, 1, s): (s, B, 0)(t, B, 2, w)(x, G, 2, w)\n",
      "(x, G, 2, w): (w, B, 1, s)(t, B, 2, w)(u, G, 3, t)(y, W, -1)\n",
      "(y, W, -1): (x, G, 2, w)(u, G, 3, t)\n",
      "Q = (x, G, 2, w)(v, G, 2, r)(u, G, 3, t)\n",
      "(r, B, 1, s): (s, B, 0)(v, G, 2, r)\n",
      "(s, B, 0): (w, B, 1, s)(r, B, 1, s)\n",
      "(t, B, 2, w): (w, B, 1, s)(x, B, 2, w)(u, G, 3, t)\n",
      "(u, G, 3, t): (t, B, 2, w)(x, B, 2, w)(y, G, 3, x)\n",
      "(v, G, 2, r): (r, B, 1, s)\n",
      "(w, B, 1, s): (s, B, 0)(t, B, 2, w)(x, B, 2, w)\n",
      "(x, B, 2, w): (w, B, 1, s)(t, B, 2, w)(u, G, 3, t)(y, G, 3, x)\n",
      "(y, G, 3, x): (x, B, 2, w)(u, G, 3, t)\n",
      "Q = (v, G, 2, r)(u, G, 3, t)(y, G, 3, x)\n",
      "(r, B, 1, s): (s, B, 0)(v, B, 2, r)\n",
      "(s, B, 0): (w, B, 1, s)(r, B, 1, s)\n",
      "(t, B, 2, w): (w, B, 1, s)(x, B, 2, w)(u, G, 3, t)\n",
      "(u, G, 3, t): (t, B, 2, w)(x, B, 2, w)(y, G, 3, x)\n",
      "(v, B, 2, r): (r, B, 1, s)\n",
      "(w, B, 1, s): (s, B, 0)(t, B, 2, w)(x, B, 2, w)\n",
      "(x, B, 2, w): (w, B, 1, s)(t, B, 2, w)(u, G, 3, t)(y, G, 3, x)\n",
      "(y, G, 3, x): (x, B, 2, w)(u, G, 3, t)\n",
      "Q = (u, G, 3, t)(y, G, 3, x)\n",
      "(r, B, 1, s): (s, B, 0)(v, B, 2, r)\n",
      "(s, B, 0): (w, B, 1, s)(r, B, 1, s)\n",
      "(t, B, 2, w): (w, B, 1, s)(x, B, 2, w)(u, B, 3, t)\n",
      "(u, B, 3, t): (t, B, 2, w)(x, B, 2, w)(y, G, 3, x)\n",
      "(v, B, 2, r): (r, B, 1, s)\n",
      "(w, B, 1, s): (s, B, 0)(t, B, 2, w)(x, B, 2, w)\n",
      "(x, B, 2, w): (w, B, 1, s)(t, B, 2, w)(u, B, 3, t)(y, G, 3, x)\n",
      "(y, G, 3, x): (x, B, 2, w)(u, B, 3, t)\n",
      "Q = (y, G, 3, x)\n",
      "(r, B, 1, s): (s, B, 0)(v, B, 2, r)\n",
      "(s, B, 0): (w, B, 1, s)(r, B, 1, s)\n",
      "(t, B, 2, w): (w, B, 1, s)(x, B, 2, w)(u, B, 3, t)\n",
      "(u, B, 3, t): (t, B, 2, w)(x, B, 2, w)(y, B, 3, x)\n",
      "(v, B, 2, r): (r, B, 1, s)\n",
      "(w, B, 1, s): (s, B, 0)(t, B, 2, w)(x, B, 2, w)\n",
      "(x, B, 2, w): (w, B, 1, s)(t, B, 2, w)(u, B, 3, t)(y, B, 3, x)\n",
      "(y, B, 3, x): (x, B, 2, w)(u, B, 3, t)\n",
      "Q = \n"
     ]
    }
   ],
   "source": [
    "bfs(G,s)"
   ]
  },
  {
   "cell_type": "markdown",
   "metadata": {},
   "source": [
    "### Depth-First Search"
   ]
  },
  {
   "cell_type": "code",
   "execution_count": 57,
   "metadata": {},
   "outputs": [],
   "source": [
    "class GNode:\n",
    "    def __init__(self, id, c=\"W\", d= -1, f = -1, p=None):\n",
    "        self.id = id\n",
    "        self.color = c\n",
    "        self.d = d\n",
    "        self.f = f\n",
    "        self.parent = p\n",
    "    def __str__(self):\n",
    "        if (self.parent != None):\n",
    "            return \"(\" + self.id + \", \" + self.color + \", (\" + str(self.d) + \", \" + str(self.f) + \"), \" + self.parent.id + \")\"\n",
    "        else:\n",
    "            return \"(\" + self.id + \", \" + self.color + \", (\" + str(self.d) + \", \" + str(self.f) + \"), None)\"    "
   ]
  },
  {
   "cell_type": "code",
   "execution_count": 58,
   "metadata": {},
   "outputs": [],
   "source": [
    "u, v, w = GNode(\"u\"), GNode(\"v\"), GNode(\"w\")\n",
    "x, y, z = GNode(\"x\"), GNode(\"y\"), GNode(\"z\") "
   ]
  },
  {
   "cell_type": "code",
   "execution_count": 59,
   "metadata": {},
   "outputs": [
    {
     "name": "stdout",
     "output_type": "stream",
     "text": [
      "(u, W, (-1, -1), None): (v, W, (-1, -1), None)(x, W, (-1, -1), None)\n",
      "(v, W, (-1, -1), None): (y, W, (-1, -1), None)\n",
      "(w, W, (-1, -1), None): (y, W, (-1, -1), None)(z, W, (-1, -1), None)\n",
      "(x, W, (-1, -1), None): (v, W, (-1, -1), None)\n",
      "(y, W, (-1, -1), None): (x, W, (-1, -1), None)\n",
      "(z, W, (-1, -1), None): (z, W, (-1, -1), None)\n"
     ]
    }
   ],
   "source": [
    "G = dict()\n",
    "G[u], G[v], G[w], G[x], G[y], G[z] = [v,x], [y], [y,z], [v], [x], [z]\n",
    "\n",
    "def printGraph(g):\n",
    "    for key, val in g.items():\n",
    "        print(str(key) + \": \", end =\"\")\n",
    "        for u in val:\n",
    "            print(str(u), end =\"\")\n",
    "        print(\"\")\n",
    "\n",
    "printGraph(G)"
   ]
  },
  {
   "cell_type": "code",
   "execution_count": 60,
   "metadata": {},
   "outputs": [],
   "source": [
    "def dfs(G):\n",
    "    time = 0\n",
    "    def printG(d):\n",
    "        print(\"===================================\")\n",
    "        for key, val in d.items():\n",
    "            print(str(key) + \": \", end = \"\")\n",
    "            for u in val:\n",
    "                print(str(u), end =\"\")\n",
    "            print(\"\")\n",
    "    def dfs_visit(G,u):\n",
    "        nonlocal time\n",
    "        time = time + 1\n",
    "        u.d = time\n",
    "        u.color = \"G\"\n",
    "        printG(G)\n",
    "        for v in G[u]:\n",
    "            if (v.color == \"W\"):\n",
    "                v.parent = u\n",
    "                dfs_visit(G,v)\n",
    "        u.color = \"B\"\n",
    "        time = time + 1\n",
    "        u.f = time\n",
    "        printG(G)\n",
    "    for key in G:\n",
    "        key.color = \"W\"\n",
    "        key.d = -1\n",
    "        key.f = -1\n",
    "        key.parent = None\n",
    "    printG(G)\n",
    "    for u in G:\n",
    "        if (u.color == \"W\"):\n",
    "            dfs_visit(G,u)"
   ]
  },
  {
   "cell_type": "code",
   "execution_count": 61,
   "metadata": {},
   "outputs": [
    {
     "name": "stdout",
     "output_type": "stream",
     "text": [
      "===================================\n",
      "(u, W, (-1, -1), None): (v, W, (-1, -1), None)(x, W, (-1, -1), None)\n",
      "(v, W, (-1, -1), None): (y, W, (-1, -1), None)\n",
      "(w, W, (-1, -1), None): (y, W, (-1, -1), None)(z, W, (-1, -1), None)\n",
      "(x, W, (-1, -1), None): (v, W, (-1, -1), None)\n",
      "(y, W, (-1, -1), None): (x, W, (-1, -1), None)\n",
      "(z, W, (-1, -1), None): (z, W, (-1, -1), None)\n",
      "===================================\n",
      "(u, G, (1, -1), None): (v, W, (-1, -1), None)(x, W, (-1, -1), None)\n",
      "(v, W, (-1, -1), None): (y, W, (-1, -1), None)\n",
      "(w, W, (-1, -1), None): (y, W, (-1, -1), None)(z, W, (-1, -1), None)\n",
      "(x, W, (-1, -1), None): (v, W, (-1, -1), None)\n",
      "(y, W, (-1, -1), None): (x, W, (-1, -1), None)\n",
      "(z, W, (-1, -1), None): (z, W, (-1, -1), None)\n",
      "===================================\n",
      "(u, G, (1, -1), None): (v, G, (2, -1), u)(x, W, (-1, -1), None)\n",
      "(v, G, (2, -1), u): (y, W, (-1, -1), None)\n",
      "(w, W, (-1, -1), None): (y, W, (-1, -1), None)(z, W, (-1, -1), None)\n",
      "(x, W, (-1, -1), None): (v, G, (2, -1), u)\n",
      "(y, W, (-1, -1), None): (x, W, (-1, -1), None)\n",
      "(z, W, (-1, -1), None): (z, W, (-1, -1), None)\n",
      "===================================\n",
      "(u, G, (1, -1), None): (v, G, (2, -1), u)(x, W, (-1, -1), None)\n",
      "(v, G, (2, -1), u): (y, G, (3, -1), v)\n",
      "(w, W, (-1, -1), None): (y, G, (3, -1), v)(z, W, (-1, -1), None)\n",
      "(x, W, (-1, -1), None): (v, G, (2, -1), u)\n",
      "(y, G, (3, -1), v): (x, W, (-1, -1), None)\n",
      "(z, W, (-1, -1), None): (z, W, (-1, -1), None)\n",
      "===================================\n",
      "(u, G, (1, -1), None): (v, G, (2, -1), u)(x, G, (4, -1), y)\n",
      "(v, G, (2, -1), u): (y, G, (3, -1), v)\n",
      "(w, W, (-1, -1), None): (y, G, (3, -1), v)(z, W, (-1, -1), None)\n",
      "(x, G, (4, -1), y): (v, G, (2, -1), u)\n",
      "(y, G, (3, -1), v): (x, G, (4, -1), y)\n",
      "(z, W, (-1, -1), None): (z, W, (-1, -1), None)\n",
      "===================================\n",
      "(u, G, (1, -1), None): (v, G, (2, -1), u)(x, B, (4, 5), y)\n",
      "(v, G, (2, -1), u): (y, G, (3, -1), v)\n",
      "(w, W, (-1, -1), None): (y, G, (3, -1), v)(z, W, (-1, -1), None)\n",
      "(x, B, (4, 5), y): (v, G, (2, -1), u)\n",
      "(y, G, (3, -1), v): (x, B, (4, 5), y)\n",
      "(z, W, (-1, -1), None): (z, W, (-1, -1), None)\n",
      "===================================\n",
      "(u, G, (1, -1), None): (v, G, (2, -1), u)(x, B, (4, 5), y)\n",
      "(v, G, (2, -1), u): (y, B, (3, 6), v)\n",
      "(w, W, (-1, -1), None): (y, B, (3, 6), v)(z, W, (-1, -1), None)\n",
      "(x, B, (4, 5), y): (v, G, (2, -1), u)\n",
      "(y, B, (3, 6), v): (x, B, (4, 5), y)\n",
      "(z, W, (-1, -1), None): (z, W, (-1, -1), None)\n",
      "===================================\n",
      "(u, G, (1, -1), None): (v, B, (2, 7), u)(x, B, (4, 5), y)\n",
      "(v, B, (2, 7), u): (y, B, (3, 6), v)\n",
      "(w, W, (-1, -1), None): (y, B, (3, 6), v)(z, W, (-1, -1), None)\n",
      "(x, B, (4, 5), y): (v, B, (2, 7), u)\n",
      "(y, B, (3, 6), v): (x, B, (4, 5), y)\n",
      "(z, W, (-1, -1), None): (z, W, (-1, -1), None)\n",
      "===================================\n",
      "(u, B, (1, 8), None): (v, B, (2, 7), u)(x, B, (4, 5), y)\n",
      "(v, B, (2, 7), u): (y, B, (3, 6), v)\n",
      "(w, W, (-1, -1), None): (y, B, (3, 6), v)(z, W, (-1, -1), None)\n",
      "(x, B, (4, 5), y): (v, B, (2, 7), u)\n",
      "(y, B, (3, 6), v): (x, B, (4, 5), y)\n",
      "(z, W, (-1, -1), None): (z, W, (-1, -1), None)\n",
      "===================================\n",
      "(u, B, (1, 8), None): (v, B, (2, 7), u)(x, B, (4, 5), y)\n",
      "(v, B, (2, 7), u): (y, B, (3, 6), v)\n",
      "(w, G, (9, -1), None): (y, B, (3, 6), v)(z, W, (-1, -1), None)\n",
      "(x, B, (4, 5), y): (v, B, (2, 7), u)\n",
      "(y, B, (3, 6), v): (x, B, (4, 5), y)\n",
      "(z, W, (-1, -1), None): (z, W, (-1, -1), None)\n",
      "===================================\n",
      "(u, B, (1, 8), None): (v, B, (2, 7), u)(x, B, (4, 5), y)\n",
      "(v, B, (2, 7), u): (y, B, (3, 6), v)\n",
      "(w, G, (9, -1), None): (y, B, (3, 6), v)(z, G, (10, -1), w)\n",
      "(x, B, (4, 5), y): (v, B, (2, 7), u)\n",
      "(y, B, (3, 6), v): (x, B, (4, 5), y)\n",
      "(z, G, (10, -1), w): (z, G, (10, -1), w)\n",
      "===================================\n",
      "(u, B, (1, 8), None): (v, B, (2, 7), u)(x, B, (4, 5), y)\n",
      "(v, B, (2, 7), u): (y, B, (3, 6), v)\n",
      "(w, G, (9, -1), None): (y, B, (3, 6), v)(z, B, (10, 11), w)\n",
      "(x, B, (4, 5), y): (v, B, (2, 7), u)\n",
      "(y, B, (3, 6), v): (x, B, (4, 5), y)\n",
      "(z, B, (10, 11), w): (z, B, (10, 11), w)\n",
      "===================================\n",
      "(u, B, (1, 8), None): (v, B, (2, 7), u)(x, B, (4, 5), y)\n",
      "(v, B, (2, 7), u): (y, B, (3, 6), v)\n",
      "(w, B, (9, 12), None): (y, B, (3, 6), v)(z, B, (10, 11), w)\n",
      "(x, B, (4, 5), y): (v, B, (2, 7), u)\n",
      "(y, B, (3, 6), v): (x, B, (4, 5), y)\n",
      "(z, B, (10, 11), w): (z, B, (10, 11), w)\n"
     ]
    }
   ],
   "source": [
    "dfs(G)"
   ]
  },
  {
   "cell_type": "code",
   "execution_count": null,
   "metadata": {},
   "outputs": [],
   "source": []
  }
 ],
 "metadata": {
  "kernelspec": {
   "display_name": "Python 3",
   "language": "python",
   "name": "python3"
  },
  "language_info": {
   "codemirror_mode": {
    "name": "ipython",
    "version": 3
   },
   "file_extension": ".py",
   "mimetype": "text/x-python",
   "name": "python",
   "nbconvert_exporter": "python",
   "pygments_lexer": "ipython3",
   "version": "3.7.3"
  }
 },
 "nbformat": 4,
 "nbformat_minor": 2
}
