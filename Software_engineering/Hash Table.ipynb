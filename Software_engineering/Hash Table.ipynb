{
 "cells": [
  {
   "cell_type": "markdown",
   "metadata": {},
   "source": [
    "# Direct-Addres Table"
   ]
  },
  {
   "cell_type": "code",
   "execution_count": 2,
   "metadata": {},
   "outputs": [],
   "source": [
    "class DAT:\n",
    "    def __init__(self, size = 10):\n",
    "        self.size = size\n",
    "        self.t = [None for i in range(size)]\n",
    "    def __str__(self):\n",
    "        s = \"{\"\n",
    "        for i in range(self.size):\n",
    "            s += \"(\" + str(i) + \", \"  + str(self.t[i]) + \")\"\n",
    "        \n",
    "        return s + \"}\"\n",
    "    \n",
    "    def search(self,k):\n",
    "        return self.t[k]\n",
    "    \n",
    "    def insert(self,x):\n",
    "        self.t[x[0]] = x\n",
    "    def delete(self,x):\n",
    "        self.t[x[0]] = None"
   ]
  },
  {
   "cell_type": "markdown",
   "metadata": {},
   "source": [
    "# Hash Table"
   ]
  },
  {
   "cell_type": "code",
   "execution_count": 3,
   "metadata": {},
   "outputs": [],
   "source": [
    "class Node:\n",
    "    def __init__(self,key,value):\n",
    "        self.key = key\n",
    "        self.value = value\n",
    "        self.prev = None\n",
    "        self.next = None\n",
    "    def __str__(self):\n",
    "        return \"(\" + str(self.key) + \", \" + str(self.value) + \")\""
   ]
  },
  {
   "cell_type": "code",
   "execution_count": 4,
   "metadata": {},
   "outputs": [],
   "source": [
    "class List:\n",
    "    def __init__(self):\n",
    "        self.nil = Node(None,None)\n",
    "        self.nil.next = self.nil\n",
    "        self.nil.prev = self.nil\n",
    "    def __str__(self):\n",
    "        if (self.nil.next == self.nil):\n",
    "            return \"[]\"\n",
    "        \n",
    "        t = self.nil.next\n",
    "        s = \"[\" + str(t)\n",
    "        while (t.next  != self.nil):\n",
    "            t =t.next\n",
    "            s = s + \", \" + str(t)\n",
    "        return s + \"]\"\n",
    "    def insert(self,key,value):\n",
    "        n = Node(key,value)\n",
    "        n.next = self.nil.next\n",
    "        self.nil.next.prev = n\n",
    "        self.nil.next = n\n",
    "        n.prev = self.nil\n",
    "        \n",
    "    def search(self,k):\n",
    "        t = self.nil.next\n",
    "        while ( t != self.nil and t.key != k):\n",
    "            t = t.next\n",
    "        if ( t != self.nil):\n",
    "            return t\n",
    "        return None\n",
    "    def delete(self,x):\n",
    "        x.prev.next = x.next\n",
    "        x.next.prev - x.prev\n"
   ]
  },
  {
   "cell_type": "code",
   "execution_count": 5,
   "metadata": {},
   "outputs": [],
   "source": [
    "class HashTable:\n",
    "    def __init(self, size = 10):\n",
    "        self.size = size\n",
    "        self.t = [List() for i in range(size)]\n",
    "    \n",
    "    def __str__(self):\n",
    "        s = \"{\"\n",
    "        for i in range(self.size):\n",
    "            s += \"(\" + str(i) + \", \" + str(self.t[i]) + \")\"\n",
    "        return s + \"}\"\n",
    "    \n",
    "    def h(self,k):\n",
    "        return k%self.size\n",
    "    \n",
    "    def search(self,k):\n",
    "        return self.t[self,h(k)].search(k)\n",
    "    \n",
    "    def insert(self,key,value):\n",
    "        return self.t[self.h(key)].insert(key,value)\n",
    "    \n",
    "    def delete(self,x):\n",
    "        return self.t[self.h(x.key)].delete(x)\n",
    "    "
   ]
  }
 ],
 "metadata": {
  "kernelspec": {
   "display_name": "Python 3",
   "language": "python",
   "name": "python3"
  },
  "language_info": {
   "codemirror_mode": {
    "name": "ipython",
    "version": 3
   },
   "file_extension": ".py",
   "mimetype": "text/x-python",
   "name": "python",
   "nbconvert_exporter": "python",
   "pygments_lexer": "ipython3",
   "version": "3.7.3"
  }
 },
 "nbformat": 4,
 "nbformat_minor": 2
}
