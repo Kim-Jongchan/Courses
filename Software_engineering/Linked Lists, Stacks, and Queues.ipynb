{
 "cells": [
  {
   "cell_type": "markdown",
   "metadata": {},
   "source": [
    "# Linked list"
   ]
  },
  {
   "cell_type": "markdown",
   "metadata": {},
   "source": [
    "The objects are arranged in a linear order by a pointer in each object"
   ]
  },
  {
   "cell_type": "markdown",
   "metadata": {},
   "source": [
    "- Doubly linked list  \n",
    "  Each node of a doubly linked list L is an object with an attribute key and two other pointer attributes: next and prev"
   ]
  },
  {
   "cell_type": "markdown",
   "metadata": {},
   "source": [
    "- Circular list  \n",
    " the prev pointer of the head points to the tail, and the next pointer of the tail points to the head\n",
    " \n",
    "    "
   ]
  },
  {
   "cell_type": "code",
   "execution_count": 1,
   "metadata": {},
   "outputs": [],
   "source": [
    "class Node:\n",
    "    def __init__(self,data):\n",
    "        self.data = data\n",
    "        self.prev = None\n",
    "        self.next = None\n",
    "    def __str__(self):\n",
    "        return str(self.data)"
   ]
  },
  {
   "cell_type": "code",
   "execution_count": 4,
   "metadata": {},
   "outputs": [],
   "source": [
    "class List:\n",
    "    def __init__(self):\n",
    "        self.head = None\n",
    "        self.tail = None\n",
    "    def __str__(self):\n",
    "        if (self.head == None):\n",
    "            return \"[]\"\n",
    "        s = \"[\" + str(self.head)\n",
    "        t = self.head.next\n",
    "        while (t != None):\n",
    "            s = s + \", \" + str(t)\n",
    "            t = t.next\n",
    "        return s + \"]\"\n",
    "    #==================================\n",
    "    def insert(self,x):\n",
    "        n = Node(x)\n",
    "        n.next = self.head\n",
    "        if (self.head != None):\n",
    "            self.head.prev = n\n",
    "        self.head = n\n",
    "        n.prev = None \n",
    "    #==================================\n",
    "    def search(self,d):\n",
    "        t = self.head\n",
    "        while ( t != None and t.data != d):\n",
    "            t = t.next\n",
    "        if ( t != None):\n",
    "            return True\n",
    "        return False\n",
    "    #==================================\n",
    "    def delete(self,x):\n",
    "        t = self.head\n",
    "        while  ( t != None and t.data != x ):\n",
    "            t = t.next\n",
    "        \n",
    "        if ( t != None ):\n",
    "            if (t.prev != None):\n",
    "                t.prev.next = t.next\n",
    "            else:\n",
    "                self.head = t.next\n",
    "            \n",
    "            if (t.next != None):\n",
    "                t.next.prev = t.prev   "
   ]
  },
  {
   "cell_type": "code",
   "execution_count": 5,
   "metadata": {},
   "outputs": [],
   "source": [
    "l = List()"
   ]
  },
  {
   "cell_type": "code",
   "execution_count": 6,
   "metadata": {},
   "outputs": [
    {
     "name": "stdout",
     "output_type": "stream",
     "text": [
      "[]\n"
     ]
    }
   ],
   "source": [
    "print(l)"
   ]
  },
  {
   "cell_type": "code",
   "execution_count": 7,
   "metadata": {},
   "outputs": [],
   "source": [
    "l.insert(3)"
   ]
  },
  {
   "cell_type": "code",
   "execution_count": 8,
   "metadata": {},
   "outputs": [
    {
     "name": "stdout",
     "output_type": "stream",
     "text": [
      "[3]\n"
     ]
    }
   ],
   "source": [
    "print(l)"
   ]
  },
  {
   "cell_type": "code",
   "execution_count": 9,
   "metadata": {},
   "outputs": [
    {
     "name": "stdout",
     "output_type": "stream",
     "text": [
      "[5, 3]\n"
     ]
    }
   ],
   "source": [
    "l.insert(5)\n",
    "print(l)"
   ]
  },
  {
   "cell_type": "code",
   "execution_count": 10,
   "metadata": {},
   "outputs": [],
   "source": [
    "l.insert(3)"
   ]
  },
  {
   "cell_type": "code",
   "execution_count": 11,
   "metadata": {},
   "outputs": [
    {
     "name": "stdout",
     "output_type": "stream",
     "text": [
      "[3, 5, 3]\n"
     ]
    }
   ],
   "source": [
    "print(l)"
   ]
  },
  {
   "cell_type": "code",
   "execution_count": 12,
   "metadata": {},
   "outputs": [],
   "source": [
    "l.insert(8)"
   ]
  },
  {
   "cell_type": "code",
   "execution_count": 13,
   "metadata": {},
   "outputs": [
    {
     "name": "stdout",
     "output_type": "stream",
     "text": [
      "[8, 3, 5, 3]\n"
     ]
    }
   ],
   "source": [
    "print(l)"
   ]
  },
  {
   "cell_type": "code",
   "execution_count": 14,
   "metadata": {},
   "outputs": [
    {
     "data": {
      "text/plain": [
       "False"
      ]
     },
     "execution_count": 14,
     "metadata": {},
     "output_type": "execute_result"
    }
   ],
   "source": [
    "l.search(9)"
   ]
  },
  {
   "cell_type": "code",
   "execution_count": 15,
   "metadata": {},
   "outputs": [
    {
     "data": {
      "text/plain": [
       "True"
      ]
     },
     "execution_count": 15,
     "metadata": {},
     "output_type": "execute_result"
    }
   ],
   "source": [
    "l.search(3)"
   ]
  },
  {
   "cell_type": "code",
   "execution_count": 16,
   "metadata": {},
   "outputs": [],
   "source": [
    "l.delete(9)"
   ]
  },
  {
   "cell_type": "code",
   "execution_count": 17,
   "metadata": {},
   "outputs": [
    {
     "name": "stdout",
     "output_type": "stream",
     "text": [
      "[8, 3, 5, 3]\n"
     ]
    }
   ],
   "source": [
    "print(l)"
   ]
  },
  {
   "cell_type": "code",
   "execution_count": 18,
   "metadata": {},
   "outputs": [],
   "source": [
    "l.delete(3)"
   ]
  },
  {
   "cell_type": "code",
   "execution_count": 19,
   "metadata": {},
   "outputs": [
    {
     "name": "stdout",
     "output_type": "stream",
     "text": [
      "[8, 5, 3]\n"
     ]
    }
   ],
   "source": [
    "print(l)"
   ]
  },
  {
   "cell_type": "markdown",
   "metadata": {},
   "source": [
    "## Linked list with Sentinels"
   ]
  },
  {
   "cell_type": "code",
   "execution_count": 21,
   "metadata": {},
   "outputs": [],
   "source": [
    "class List:\n",
    "    def __init__(self):\n",
    "        self.nil = Node(None)\n",
    "        self.nil.prev - self.nil\n",
    "        self.nil.next = self.nil\n",
    "    def __str__(self):\n",
    "        if (self.nil.next == self.nil):\n",
    "            return \"[]\"\n",
    "        t = self.nil.next\n",
    "        s = \"[\" + str(t)\n",
    "        while (t.next != self.nil):\n",
    "            t = t.next\n",
    "            s = s + \", \" + str(t)\n",
    "        return s + \"]\"\n",
    "    \n",
    "    def insert(self,x):\n",
    "        n = Node(x)\n",
    "        n.next = self.nil.next\n",
    "        self.nil.next.prev = n\n",
    "        self.nil.next = n\n",
    "        n.prev = self.nil\n",
    "  \n",
    "    def search(self,d):\n",
    "        t = self.nil.next\n",
    "        while (t != self.nil and t.data != d):\n",
    "            t = t.next\n",
    "        if ( t != self.nil ):\n",
    "            return True\n",
    "        return False\n",
    "            \n",
    "    def delete(self, x):\n",
    "        t = self.nil.next\n",
    "        while (t != self.nil and t.data != x):\n",
    "            t = t.next\n",
    "        if ( t != self.nil):\n",
    "            t.prev.next = t.next\n",
    "            t.next.prev = t.prev\n",
    "        "
   ]
  },
  {
   "cell_type": "markdown",
   "metadata": {},
   "source": [
    "# Stack"
   ]
  },
  {
   "cell_type": "markdown",
   "metadata": {},
   "source": [
    "Last in, First out"
   ]
  },
  {
   "cell_type": "code",
   "execution_count": 29,
   "metadata": {},
   "outputs": [],
   "source": [
    "class List:\n",
    "    def __init__(self):\n",
    "        self.nil = Node(None)\n",
    "        self.nil.prev - self.nil\n",
    "        self.nil.next = self.nil\n",
    "    def __str__(self):\n",
    "            if (self.nil.next == self.nil):\n",
    "                return \"[]\"\n",
    "            t = self.nil.next\n",
    "            s = \"[\" + str(t)\n",
    "            while (t.next != self.nil):\n",
    "                t = t.next\n",
    "                s = s + \", \" + str(t)\n",
    "            return s + \"]\"\n",
    "\n",
    "    def inserted_head(self,x):\n",
    "            n = Node(x)\n",
    "            n.next = self.nil.next\n",
    "            self.nil.next.prev = n\n",
    "            self.nil.next = n\n",
    "            n.prev = self.nil\n",
    "\n",
    "    def insert_tail(self,x):\n",
    "            n = Node(x)\n",
    "            n.next = self.nil\n",
    "            n.prev = self.nil.prev\n",
    "            self.nil.prev.next = n\n",
    "            self.nil.next = n\n",
    "    def delete_head(self):\n",
    "            first = self.nil.next\n",
    "            first.next.prev = self.nil\n",
    "            self.nil.next = first.next\n",
    "            return first.data"
   ]
  },
  {
   "cell_type": "code",
   "execution_count": 30,
   "metadata": {},
   "outputs": [],
   "source": [
    "class Stack:\n",
    "    def __init__(self, max = 3):\n",
    "        self.l = List()\n",
    "        self.max = max\n",
    "        self.count = 0\n",
    "    def __str__(self):\n",
    "        return str(self.l)\n",
    "    \n",
    "    def empty(self):\n",
    "        if (self.count == 0):\n",
    "            return True\n",
    "        return False\n",
    "    \n",
    "    def push(self,x):\n",
    "        if (self.count >= self.max):\n",
    "            print(\"overflow\")\n",
    "        else:\n",
    "            self.count += 1\n",
    "            self.l.insert_head(x)\n",
    "    def pop(self):\n",
    "        if (self.empty()):\n",
    "            print(\"underflow\")\n",
    "        else:\n",
    "            self.count -= 1\n",
    "            return self.l.delete_head()"
   ]
  },
  {
   "cell_type": "markdown",
   "metadata": {},
   "source": [
    "# Queue"
   ]
  },
  {
   "cell_type": "code",
   "execution_count": 31,
   "metadata": {},
   "outputs": [],
   "source": [
    "class Queue:\n",
    "    def __init__(self, max =3):\n",
    "        self.l = List()\n",
    "        self.max = max\n",
    "        self.count = 0\n",
    "        \n",
    "    def __str__(self):\n",
    "        return str(self.l)\n",
    "    def enqueue(self,x):\n",
    "        if (self.count >= self.max):\n",
    "            print(\"overflow\")\n",
    "        else:\n",
    "            self.count += 1\n",
    "            self.l.insert_tail(x)\n",
    "    def dequeue(self):\n",
    "        if (self.count == 0):\n",
    "            print(\"underflow\")\n",
    "        else:\n",
    "            self.count -= 1\n",
    "            return self.l.delete_head()"
   ]
  }
 ],
 "metadata": {
  "kernelspec": {
   "display_name": "Python 3",
   "language": "python",
   "name": "python3"
  },
  "language_info": {
   "codemirror_mode": {
    "name": "ipython",
    "version": 3
   },
   "file_extension": ".py",
   "mimetype": "text/x-python",
   "name": "python",
   "nbconvert_exporter": "python",
   "pygments_lexer": "ipython3",
   "version": "3.7.3"
  }
 },
 "nbformat": 4,
 "nbformat_minor": 2
}
