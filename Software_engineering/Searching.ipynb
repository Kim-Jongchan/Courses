{
 "cells": [
  {
   "cell_type": "markdown",
   "metadata": {},
   "source": [
    "# Searching"
   ]
  },
  {
   "cell_type": "markdown",
   "metadata": {},
   "source": [
    "Given a collection of elements, C = {a1,a2,...,an} and a key element e, find the element ai in C that matches e\n",
    " - finding the first such element\n",
    " - finding the last such element\n",
    " - finding the index of the element\n",
    " - finding all such elements\n",
    "\n",
    "Two cases\n",
    " - the elements are stored in order\n",
    " - the elements are stored without any order."
   ]
  },
  {
   "cell_type": "markdown",
   "metadata": {},
   "source": [
    "## Linear search"
   ]
  },
  {
   "cell_type": "code",
   "execution_count": 1,
   "metadata": {},
   "outputs": [],
   "source": [
    "def linear_serach(l,e):\n",
    "    found = False\n",
    "    for i in l:\n",
    "        if (i == e):\n",
    "            found = True\n",
    "    return found"
   ]
  },
  {
   "cell_type": "code",
   "execution_count": 2,
   "metadata": {},
   "outputs": [
    {
     "data": {
      "text/plain": [
       "True"
      ]
     },
     "execution_count": 2,
     "metadata": {},
     "output_type": "execute_result"
    }
   ],
   "source": [
    "l = [3,7,9,33,5,7,12,16]\n",
    "linear_serach(l,5)"
   ]
  },
  {
   "cell_type": "code",
   "execution_count": 3,
   "metadata": {},
   "outputs": [],
   "source": [
    "def linear_search_idx(l,e):\n",
    "    n = len(l)\n",
    "    idx = -1\n",
    "    for i in range(n):\n",
    "        if (l[i] == e):\n",
    "            idx = i\n",
    "            \n",
    "    return idx"
   ]
  },
  {
   "cell_type": "markdown",
   "metadata": {},
   "source": [
    "## Linear search on Sorted List"
   ]
  },
  {
   "cell_type": "code",
   "execution_count": 4,
   "metadata": {},
   "outputs": [],
   "source": [
    "def linear_search_sorted(l,e):\n",
    "    found = False\n",
    "    for i in l:\n",
    "        if (i == e):\n",
    "            found= True\n",
    "            break\n",
    "        if (i > e):\n",
    "            found = False\n",
    "            break\n",
    "    return found"
   ]
  },
  {
   "cell_type": "markdown",
   "metadata": {},
   "source": [
    "## Binary Search"
   ]
  },
  {
   "cell_type": "markdown",
   "metadata": {},
   "source": [
    "A divide and conquer algorithm\n",
    " - recursive version\n",
    " \n",
    "Assumption: the elements in list l are sorted"
   ]
  },
  {
   "cell_type": "code",
   "execution_count": 5,
   "metadata": {},
   "outputs": [],
   "source": [
    "def binary_search(l,e):\n",
    "    def bs(l,low,high,e):\n",
    "        if (low > high):\n",
    "            return -1\n",
    "        i = int((low+high)/2)\n",
    "        if (l[i] == e):\n",
    "            return i\n",
    "        elif (l[i] < e):\n",
    "            i = bs(l, i+1, high,e)\n",
    "        else:\n",
    "            i = bs(l,low, i-1,e)\n",
    "        return i\n",
    "    return bs(l,0,len(l)-1,e)"
   ]
  },
  {
   "cell_type": "code",
   "execution_count": 7,
   "metadata": {},
   "outputs": [
    {
     "data": {
      "text/plain": [
       "4"
      ]
     },
     "execution_count": 7,
     "metadata": {},
     "output_type": "execute_result"
    }
   ],
   "source": [
    "l = [3,7,9,33,126,162]\n",
    "binary_search(l,126)"
   ]
  },
  {
   "cell_type": "markdown",
   "metadata": {},
   "source": [
    "Iterative Binary Search"
   ]
  },
  {
   "cell_type": "code",
   "execution_count": 8,
   "metadata": {},
   "outputs": [],
   "source": [
    "def binary_search_iter(l,e):\n",
    "    low = 0\n",
    "    high = len(l) -1 \n",
    "    while (low < high):\n",
    "        i = int((high+low)/2)\n",
    "        if (l[i] ==e ):\n",
    "            return i\n",
    "        elif (l[i] < e):\n",
    "            low = i+1\n",
    "        else:\n",
    "            high = i-1\n",
    "    return -1"
   ]
  },
  {
   "cell_type": "code",
   "execution_count": 10,
   "metadata": {},
   "outputs": [
    {
     "data": {
      "text/plain": [
       "4"
      ]
     },
     "execution_count": 10,
     "metadata": {},
     "output_type": "execute_result"
    }
   ],
   "source": [
    "l = [3,7,9,33,126,162]\n",
    "binary_search_iter(l,126)"
   ]
  }
 ],
 "metadata": {
  "kernelspec": {
   "display_name": "Python 3",
   "language": "python",
   "name": "python3"
  },
  "language_info": {
   "codemirror_mode": {
    "name": "ipython",
    "version": 3
   },
   "file_extension": ".py",
   "mimetype": "text/x-python",
   "name": "python",
   "nbconvert_exporter": "python",
   "pygments_lexer": "ipython3",
   "version": "3.7.3"
  }
 },
 "nbformat": 4,
 "nbformat_minor": 2
}
