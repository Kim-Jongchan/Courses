{
 "cells": [
  {
   "cell_type": "markdown",
   "metadata": {},
   "source": [
    "# Sorting problem"
   ]
  },
  {
   "cell_type": "markdown",
   "metadata": {},
   "source": [
    "## comparison based Sorting"
   ]
  },
  {
   "cell_type": "markdown",
   "metadata": {},
   "source": [
    "Swaping Two Elements in a List"
   ]
  },
  {
   "cell_type": "code",
   "execution_count": 3,
   "metadata": {},
   "outputs": [
    {
     "data": {
      "text/plain": [
       "[3, 7, 2, 6, 5, 9, 8]"
      ]
     },
     "execution_count": 3,
     "metadata": {},
     "output_type": "execute_result"
    }
   ],
   "source": [
    "l = [3,7,2,6,5,9,8]\n",
    "l"
   ]
  },
  {
   "cell_type": "code",
   "execution_count": 4,
   "metadata": {},
   "outputs": [
    {
     "data": {
      "text/plain": [
       "[3, 7, 2, 9, 5, 9, 8]"
      ]
     },
     "execution_count": 4,
     "metadata": {},
     "output_type": "execute_result"
    }
   ],
   "source": [
    "t = l[3]\n",
    "l[3] = l[5]\n",
    "l"
   ]
  },
  {
   "cell_type": "code",
   "execution_count": 5,
   "metadata": {},
   "outputs": [
    {
     "data": {
      "text/plain": [
       "[3, 7, 2, 9, 5, 6, 8]"
      ]
     },
     "execution_count": 5,
     "metadata": {},
     "output_type": "execute_result"
    }
   ],
   "source": [
    "l[5]= t\n",
    "l"
   ]
  },
  {
   "cell_type": "markdown",
   "metadata": {},
   "source": [
    "### Bubble sort"
   ]
  },
  {
   "cell_type": "markdown",
   "metadata": {},
   "source": [
    "Given a list of numbers of length n, compare adjacent elements in the list at each step, swaps them if they are in the wrong order"
   ]
  },
  {
   "cell_type": "code",
   "execution_count": 8,
   "metadata": {},
   "outputs": [
    {
     "name": "stdout",
     "output_type": "stream",
     "text": [
      "Iteration     4: [56, 78, 39, 27, 6]\n",
      " after swap(1, 2): [56, 39, 78, 27, 6]\n",
      " after swap(2, 3): [56, 39, 27, 78, 6]\n",
      " after swap(3, 4): [56, 39, 27, 6, 78]\n",
      "Iteration     3: [56, 39, 27, 6, 78]\n",
      " after swap(0, 1): [39, 56, 27, 6, 78]\n",
      " after swap(1, 2): [39, 27, 56, 6, 78]\n",
      " after swap(2, 3): [39, 27, 6, 56, 78]\n",
      "Iteration     2: [39, 27, 6, 56, 78]\n",
      " after swap(0, 1): [27, 39, 6, 56, 78]\n",
      " after swap(1, 2): [27, 6, 39, 56, 78]\n",
      "Iteration     1: [27, 6, 39, 56, 78]\n",
      " after swap(0, 1): [6, 27, 39, 56, 78]\n"
     ]
    },
    {
     "data": {
      "text/plain": [
       "[6, 27, 39, 56, 78]"
      ]
     },
     "execution_count": 8,
     "metadata": {},
     "output_type": "execute_result"
    }
   ],
   "source": [
    "def bubble_sort(l):\n",
    "    def swap(i,j):\n",
    "        t = l[i]\n",
    "        l[i] = l[j]\n",
    "        l[j] = t\n",
    "        print(\" after swap(\"+str(i)+\", \"+str(j)+\"): \"+ str(l))\n",
    "        return\n",
    "    n = len(l) - 1\n",
    "    for i in range(n,0,-1):\n",
    "        print(\"Iteration     \" + str(i) + \": \"+ str(l))\n",
    "        for j in range(i):\n",
    "            if (l[j] >= l[j+1]):\n",
    "                swap(j,j+1)\n",
    "    return l\n",
    "bubble_sort([56,78,39,27,6])"
   ]
  },
  {
   "cell_type": "markdown",
   "metadata": {},
   "source": [
    "### Insertion Sort"
   ]
  },
  {
   "cell_type": "markdown",
   "metadata": {},
   "source": [
    "Maintain a sorted sublist and unsorted sublist"
   ]
  },
  {
   "cell_type": "code",
   "execution_count": 9,
   "metadata": {
    "scrolled": true
   },
   "outputs": [
    {
     "name": "stdout",
     "output_type": "stream",
     "text": [
      "input: [3, 7, 2, 6, 5, 9, 8]\n",
      "   sorted: [3], unsorted: [7, 2, 6, 5, 9, 8]\n",
      "After inserting 7 into [3],\n",
      "    [3, 7][2, 6, 5, 9, 8]\n",
      "After inserting 2 into [3, 7],\n",
      "    [2, 3, 7][6, 5, 9, 8]\n",
      "After inserting 6 into [2, 3, 7],\n",
      "    [2, 3, 6, 7][5, 9, 8]\n",
      "After inserting 5 into [2, 3, 6, 7],\n",
      "    [2, 3, 5, 6, 7][9, 8]\n",
      "After inserting 9 into [2, 3, 5, 6, 7],\n",
      "    [2, 3, 5, 6, 7, 9][8]\n",
      "After inserting 8 into [2, 3, 5, 6, 7, 9],\n",
      "    [2, 3, 5, 6, 7, 8, 9][]\n"
     ]
    },
    {
     "data": {
      "text/plain": [
       "[2, 3, 5, 6, 7, 8, 9]"
      ]
     },
     "execution_count": 9,
     "metadata": {},
     "output_type": "execute_result"
    }
   ],
   "source": [
    "def insertion_sort(l):\n",
    "    n = len(l)\n",
    "    #====================================================================\n",
    "    print(\"input: \"+str(l))\n",
    "    print(\"   sorted: \" +str(l[0:1]) + \", unsorted: \"+str(l[1:]))\n",
    "    #====================================================================\n",
    "    for j in range(1,n):\n",
    "        #==========================================================================\n",
    "        # Insert l[j] into the already sorted sublist l[0:1]\n",
    "        print(\"After inserting \"+str(l[j]) + \" into \" + str(l[0:j]) + \",\")\n",
    "        #==========================================================================\n",
    "        key = l[j]\n",
    "        i = j-1\n",
    "        while ((i>=0) and (key < l[i])):\n",
    "            l[i+1] = l[i]\n",
    "            i -= 1\n",
    "        l[i+1] = key\n",
    "        #===========================================================================\n",
    "        print(\"    \" + str(l[0:j+1]) +str(l[j+1:]))\n",
    "        #===========================================================================\n",
    "    return l\n",
    "\n",
    "insertion_sort([3,7,2,6,5,9,8])\n",
    "        \n",
    "        "
   ]
  },
  {
   "cell_type": "markdown",
   "metadata": {},
   "source": [
    "### Selection Sort"
   ]
  },
  {
   "cell_type": "code",
   "execution_count": 11,
   "metadata": {},
   "outputs": [],
   "source": [
    "def selection_sort(l):\n",
    "    def swap(i,j):\n",
    "        #============================\n",
    "        print(str(l)+\" === after swapping \" + str(l[i])+ \" and \" +str(l[j]) + \" ====>\", end = \"\") \n",
    "        #============================\n",
    "        t = l[i]\n",
    "        l[i] = l[j]\n",
    "        l[j] = t\n",
    "        print(l)\n",
    "        return\n",
    "    #============================\n",
    "    print(\"Input: \" + str(l))\n",
    "    #============================\n",
    "    n = len(l) - 1\n",
    "    for i in range(n):\n",
    "        \n",
    "        s = i\n",
    "        swap_flag = False\n",
    "        \n",
    "        #============================\n",
    "        print(\"Iter. \" + str(i) + \" ---------------------------------\")\n",
    "        print(\"   comparing \" + str(l[s]) + \" with the elements in \" + str(l[s+1,j]))\n",
    "        #============================\n",
    "        for j in range(i+1,n):\n",
    "            if l[i] >= I[j]:\n",
    "                s = j\n",
    "                swap_flag = True\n",
    "    swap(i,s) if swap_flag else None\n",
    "    #============================\n",
    "    print(str(l[0:i+1] + str(l[i+1:])))\n",
    "    #============================\n",
    "    return l"
   ]
  },
  {
   "cell_type": "markdown",
   "metadata": {},
   "source": [
    "### Merge Sort"
   ]
  },
  {
   "cell_type": "markdown",
   "metadata": {},
   "source": [
    "# A divide and conquer algorithm\n",
    "\n",
    "1) Divide step\n",
    "- Divide the list into two halves\n",
    "- Recursively sort the two halves\n",
    "\n",
    "2) Conquer step\n",
    "- Merge the two halves to form a sorted list"
   ]
  },
  {
   "cell_type": "code",
   "execution_count": 21,
   "metadata": {},
   "outputs": [],
   "source": [
    "def merge(left, right):\n",
    "    len_left, len_right = len(left), len(right)\n",
    "    i_left, i_right = 0,0\n",
    "    l = []\n",
    "    #===============================================================\n",
    "    #print(l, left[i_left:],right[i_right:])\n",
    "    #===============================================================\n",
    "    while ((i_left < len_left) and (i_right < len_right)):\n",
    "        if (left[i_left] < right[i_right]):\n",
    "            l.append(left[i_left])\n",
    "            i_left += 1\n",
    "        else:\n",
    "            l.append(right[i_right])\n",
    "            i_right += 1\n",
    "        #===============================================================\n",
    "        #print(l, left[i_left:], right[i_right:])\n",
    "        #===============================================================\n",
    "    while (i_left < len_left):\n",
    "        l.append(left[i_left])\n",
    "        i_left += 1\n",
    "        #===============================================================\n",
    "        #print(l, left[i_left:], right[i_right:])\n",
    "    while (i_right < len_right):\n",
    "        l.append(right[i_right])\n",
    "        i_right += 1\n",
    "        #===============================================================\n",
    "        #print(l, left[i_left:], right[i_right:])\n",
    "        #===============================================================\n",
    "    return l"
   ]
  },
  {
   "cell_type": "code",
   "execution_count": 22,
   "metadata": {},
   "outputs": [
    {
     "data": {
      "text/plain": [
       "[1, 2, 3, 4, 5]"
      ]
     },
     "execution_count": 22,
     "metadata": {},
     "output_type": "execute_result"
    }
   ],
   "source": [
    "merge([1,3,5],[2,4])"
   ]
  },
  {
   "cell_type": "code",
   "execution_count": 23,
   "metadata": {},
   "outputs": [],
   "source": [
    "def merge_sort(l,n):\n",
    "    if ((len(l)==0) or (len(l)==1)):\n",
    "        return l\n",
    "    mid = int(len(l)/2)\n",
    "    #===========================================================================\n",
    "    print(\" \"*n + \"Dividing \" + str(l) + \" into \" + str(l[0:mid]) + str(l[mid:]))\n",
    "    #===========================================================================\n",
    "    left = merge_sort(l[0:mid],n+1)\n",
    "    #===========================================================================\n",
    "    print(\" \"*n + \"After sorting \" + str(l[0:mid]) + \", \" + str(left))\n",
    "    #===========================================================================\n",
    "    right = merge_sort(l[mid:],n+1)\n",
    "    #===========================================================================\n",
    "    print(\" \"*n + \"After sorting \" + str(l[mid:]) + \", \" + str(right))\n",
    "    #===========================================================================\n",
    "    r = merge(left, right)\n",
    "    #===========================================================================\n",
    "    print(\" \"*n + \"After merging \" + str(left) + \" and \" + str(right) + \", \" + str(r))\n",
    "    #===========================================================================\n",
    "    return r"
   ]
  },
  {
   "cell_type": "code",
   "execution_count": 24,
   "metadata": {},
   "outputs": [
    {
     "name": "stdout",
     "output_type": "stream",
     "text": [
      "Dividing [3, 2, 7, 13, 8, 5, 22, 47, 9] into [3, 2, 7, 13][8, 5, 22, 47, 9]\n",
      " Dividing [3, 2, 7, 13] into [3, 2][7, 13]\n",
      "  Dividing [3, 2] into [3][2]\n",
      "  After sorting [3], [3]\n",
      "  After sorting [2], [2]\n",
      "  After merging [3] and [2], [2, 3]\n",
      " After sorting [3, 2], [2, 3]\n",
      "  Dividing [7, 13] into [7][13]\n",
      "  After sorting [7], [7]\n",
      "  After sorting [13], [13]\n",
      "  After merging [7] and [13], [7, 13]\n",
      " After sorting [7, 13], [7, 13]\n",
      " After merging [2, 3] and [7, 13], [2, 3, 7, 13]\n",
      "After sorting [3, 2, 7, 13], [2, 3, 7, 13]\n",
      " Dividing [8, 5, 22, 47, 9] into [8, 5][22, 47, 9]\n",
      "  Dividing [8, 5] into [8][5]\n",
      "  After sorting [8], [8]\n",
      "  After sorting [5], [5]\n",
      "  After merging [8] and [5], [5, 8]\n",
      " After sorting [8, 5], [5, 8]\n",
      "  Dividing [22, 47, 9] into [22][47, 9]\n",
      "  After sorting [22], [22]\n",
      "   Dividing [47, 9] into [47][9]\n",
      "   After sorting [47], [47]\n",
      "   After sorting [9], [9]\n",
      "   After merging [47] and [9], [9, 47]\n",
      "  After sorting [47, 9], [9, 47]\n",
      "  After merging [22] and [9, 47], [9, 22, 47]\n",
      " After sorting [22, 47, 9], [9, 22, 47]\n",
      " After merging [5, 8] and [9, 22, 47], [5, 8, 9, 22, 47]\n",
      "After sorting [8, 5, 22, 47, 9], [5, 8, 9, 22, 47]\n",
      "After merging [2, 3, 7, 13] and [5, 8, 9, 22, 47], [2, 3, 5, 7, 8, 9, 13, 22, 47]\n"
     ]
    },
    {
     "data": {
      "text/plain": [
       "[2, 3, 5, 7, 8, 9, 13, 22, 47]"
      ]
     },
     "execution_count": 24,
     "metadata": {},
     "output_type": "execute_result"
    }
   ],
   "source": [
    "merge_sort([3,2,7,13,8,5,22,47,9],0)"
   ]
  },
  {
   "cell_type": "markdown",
   "metadata": {},
   "source": [
    "### Quick Sort Algorithm"
   ]
  },
  {
   "cell_type": "markdown",
   "metadata": {},
   "source": [
    "Non-inplace partition Algorithm"
   ]
  },
  {
   "cell_type": "code",
   "execution_count": 43,
   "metadata": {},
   "outputs": [],
   "source": [
    "def partition(l,low,high):\n",
    "    p = l[low]\n",
    "    small = []\n",
    "    large = []\n",
    "    \n",
    "    for i in l[low+1: high+1]:\n",
    "        if ( p > i ):\n",
    "            small.append(i)\n",
    "        else: \n",
    "            large.append(i)\n",
    "    small.append(p)\n",
    "    \n",
    "    idx = low\n",
    "    for i in small:\n",
    "        l[idx] = i\n",
    "        idx += 1\n",
    "    for i in large:\n",
    "        l[idx] = i\n",
    "        idx += 1\n",
    "    return (low + len(small) -1)"
   ]
  },
  {
   "cell_type": "code",
   "execution_count": 52,
   "metadata": {},
   "outputs": [],
   "source": [
    "def quick_sort(l):\n",
    "    def qs(l,low, high, n):\n",
    "        #=======================================================\n",
    "        print(\"=====\"*n + \" Sorting \" + str(l[low:high+1]))\n",
    "        #=======================================================\n",
    "        if (low < high):\n",
    "            pivot_idx = partition(l,low,high)\n",
    "            #=======================================================\n",
    "            print(\"=====\"*n + \" After partitioning: \" + str(l[low:pivot_idx]) + \"[\" + str(l[pivot_idx]) + \"]\" + str(l[pivot_idx+1:high+1]))\n",
    "            #=======================================================\n",
    "            qs(l, low, pivot_idx-1,n+1)\n",
    "            qs(l, pivot_idx+1, high, n+1)\n",
    "            #=======================================================\n",
    "            print(\"=====\"*n + \"After sorting: \" + str(l[low:pivot_idx]) + \"[\" + str(l[pivot_idx]) + \"]\" + str(l[pivot_idx+1:high+1]))\n",
    "            #=======================================================\n",
    "        return l\n",
    "    qs(l,0,len(l)-1,0)\n",
    "    return l\n",
    "        "
   ]
  },
  {
   "cell_type": "code",
   "execution_count": 53,
   "metadata": {},
   "outputs": [
    {
     "name": "stdout",
     "output_type": "stream",
     "text": [
      " Sorting [7, 2, 24, 4, 9, 3, 8]\n",
      " After partitioning: [2, 4, 3][7][24, 9, 8]\n",
      "===== Sorting [2, 4, 3]\n",
      "===== After partitioning: [][2][4, 3]\n",
      "========== Sorting []\n",
      "========== Sorting [4, 3]\n",
      "========== After partitioning: [3][4][]\n",
      "=============== Sorting [3]\n",
      "=============== Sorting []\n",
      "==========After sorting: [3][4][]\n",
      "=====After sorting: [][2][3, 4]\n",
      "===== Sorting [24, 9, 8]\n",
      "===== After partitioning: [9, 8][24][]\n",
      "========== Sorting [9, 8]\n",
      "========== After partitioning: [8][9][]\n",
      "=============== Sorting [8]\n",
      "=============== Sorting []\n",
      "==========After sorting: [8][9][]\n",
      "========== Sorting []\n",
      "=====After sorting: [8, 9][24][]\n",
      "After sorting: [2, 3, 4][7][8, 9, 24]\n"
     ]
    },
    {
     "data": {
      "text/plain": [
       "[2, 3, 4, 7, 8, 9, 24]"
      ]
     },
     "execution_count": 53,
     "metadata": {},
     "output_type": "execute_result"
    }
   ],
   "source": [
    "l = [7,2,24,4,9,3,8]\n",
    "quick_sort(l)"
   ]
  },
  {
   "cell_type": "markdown",
   "metadata": {},
   "source": [
    "Inplace Partition Algorithm"
   ]
  },
  {
   "cell_type": "markdown",
   "metadata": {},
   "source": [
    "To partition a given list, choose l[0] as the pivot p\n",
    "l[1:] are divided into three regions\n",
    " - Small = l[1:m+1] where Items < p\n",
    " - Large = l[m+1:k] where Items >= p\n",
    " - Unknown = l[k:] where Items are not determined yet\n",
    "Initially, Small and Large are empty and all items excluding pare in Unknown."
   ]
  },
  {
   "cell_type": "code",
   "execution_count": 1,
   "metadata": {},
   "outputs": [
    {
     "data": {
      "text/plain": [
       "3"
      ]
     },
     "execution_count": 1,
     "metadata": {},
     "output_type": "execute_result"
    }
   ],
   "source": [
    "def partition(l,low,high):\n",
    "    def swap(i,j):\n",
    "        t = l[i]\n",
    "        l[i] = l[j]\n",
    "        l[j] = t\n",
    "        return \n",
    "    p = l[low] # p is the pivot element\n",
    "    m = low\n",
    "    for j in range(low+1, high+1):\n",
    "        if (l[j] < p):\n",
    "            m += 1\n",
    "            swap(j,m)\n",
    "    swap(low,m)\n",
    "    return m\n",
    "\n",
    "l = [7,2,24,4,9,3,8]\n",
    "partition(l,0,6)"
   ]
  },
  {
   "cell_type": "code",
   "execution_count": 2,
   "metadata": {},
   "outputs": [
    {
     "data": {
      "text/plain": [
       "[3, 2, 4, 7, 9, 24, 8]"
      ]
     },
     "execution_count": 2,
     "metadata": {},
     "output_type": "execute_result"
    }
   ],
   "source": [
    "l"
   ]
  },
  {
   "cell_type": "markdown",
   "metadata": {},
   "source": [
    "# Non Comparison-Based Sort"
   ]
  },
  {
   "cell_type": "markdown",
   "metadata": {},
   "source": [
    "### Counting  sort"
   ]
  },
  {
   "cell_type": "code",
   "execution_count": 6,
   "metadata": {},
   "outputs": [],
   "source": [
    "def counting_sort(l,m):\n",
    "    # Assume keys are in the range[0:m]\n",
    "    # Initialize a new list c with m 0's\n",
    "    # Alternatively, c = [0 for i in range(m)]\n",
    "    \n",
    "    c = [0]*(m+1)\n",
    "    for i in l:\n",
    "        c[i] += 1\n",
    "    # The value of c[i] corresponds to how many times i appeared in l\n",
    "    #===============================================================\n",
    "    print(c)\n",
    "    #===============================================================\n",
    "    for j in range(1,m+1):\n",
    "        c[j] = c[j-1] + c[j]\n",
    "        # c[j] stores # of keys that are <= j\n",
    "        # key j must be stored at the indices\n",
    "    #===============================================================\n",
    "    print(c)\n",
    "    n = len(l)\n",
    "    t = [0] * n\n",
    "    \n",
    "    for i in range(n-1,-1,-1): # Note we iterate through 1 backwards <- stable sorting\n",
    "        j = l[i]\n",
    "        t[c[j]-1] = j\n",
    "        c[j] = c[j] -1\n",
    "    \n",
    "    for i in range(0,n):\n",
    "        l[i] = t[i]\n",
    "    return l"
   ]
  },
  {
   "cell_type": "code",
   "execution_count": 8,
   "metadata": {},
   "outputs": [
    {
     "name": "stdout",
     "output_type": "stream",
     "text": [
      "[0, 1, 2, 2]\n",
      "[0, 1, 3, 5]\n"
     ]
    },
    {
     "data": {
      "text/plain": [
       "[1, 2, 2, 3, 3]"
      ]
     },
     "execution_count": 8,
     "metadata": {},
     "output_type": "execute_result"
    }
   ],
   "source": [
    "l = [2,1,3,2,3]\n",
    "counting_sort(l,3)"
   ]
  },
  {
   "cell_type": "markdown",
   "metadata": {},
   "source": [
    "Stable sorting : if the relative order of elements with the same key value is preserved by the algorithm"
   ]
  },
  {
   "cell_type": "markdown",
   "metadata": {},
   "source": [
    "### Radix sort"
   ]
  },
  {
   "cell_type": "code",
   "execution_count": 11,
   "metadata": {},
   "outputs": [],
   "source": [
    "def radix_sort(l,d):\n",
    "    # Starting with the least significant digit\n",
    "    \n",
    "    for r in range(0,d):\n",
    "        c = [0]*10\n",
    "        m = d - r - 1\n",
    "        for i in l:\n",
    "            key = int(str(i)[m])\n",
    "            c[key] += 1\n",
    "        for j in range(1,10):\n",
    "            c[j] = c[j-1] + c[j]\n",
    "        \n",
    "        n = len(l)\n",
    "        t = [0]*n\n",
    "        \n",
    "        for i in range(n-1,-1,-1):\n",
    "            key = int(str(l[i])[m])\n",
    "            t[c[key]-1] = l[i]\n",
    "            c[key] = c[key]-1\n",
    "        for i in range(0,n):\n",
    "            l[i] = t[i]\n",
    "        \n",
    "    return l"
   ]
  },
  {
   "cell_type": "code",
   "execution_count": 12,
   "metadata": {},
   "outputs": [
    {
     "data": {
      "text/plain": [
       "[128, 212, 232, 324, 333]"
      ]
     },
     "execution_count": 12,
     "metadata": {},
     "output_type": "execute_result"
    }
   ],
   "source": [
    "l = [232,324,333,212,128]\n",
    "\n",
    "radix_sort(l,3)"
   ]
  }
 ],
 "metadata": {
  "kernelspec": {
   "display_name": "Python 3",
   "language": "python",
   "name": "python3"
  },
  "language_info": {
   "codemirror_mode": {
    "name": "ipython",
    "version": 3
   },
   "file_extension": ".py",
   "mimetype": "text/x-python",
   "name": "python",
   "nbconvert_exporter": "python",
   "pygments_lexer": "ipython3",
   "version": "3.7.3"
  }
 },
 "nbformat": 4,
 "nbformat_minor": 2
}
